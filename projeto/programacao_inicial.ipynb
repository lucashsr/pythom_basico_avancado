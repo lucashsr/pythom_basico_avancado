{
 "cells": [
  {
   "cell_type": "code",
   "execution_count": 2,
   "metadata": {},
   "outputs": [
    {
     "name": "stdout",
     "output_type": "stream",
     "text": [
      "hello world\n"
     ]
    }
   ],
   "source": [
    "print(\"hello world\")"
   ]
  },
  {
   "attachments": {},
   "cell_type": "markdown",
   "metadata": {},
   "source": [
    "IMC"
   ]
  },
  {
   "cell_type": "code",
   "execution_count": 9,
   "metadata": {},
   "outputs": [
    {
     "name": "stdout",
     "output_type": "stream",
     "text": [
      "anderson tem 1.9 de altura\n",
      "pesa 110.0 quilos e seu IMC é\n",
      "24.691358024691358\n"
     ]
    }
   ],
   "source": [
    "nome = input('Digite seu nome')\n",
    "altura = float(input('Digite sua altura'))\n",
    "peso = float(input('Digite o seu peso'))\n",
    "\n",
    "def calcular_imc(altura, peso):\n",
    "    imc = peso / altura ** 2\n",
    "    return imc\n",
    "\n",
    "def exibir_mensagem():\n",
    "    frase = (f'{nome} tem {altura} de altura\\npesa {peso} quilos e seu IMC é\\n{calcular_imc(altura=1.80, peso=80)}')\n",
    "    return frase\n",
    "\n",
    "print(exibir_mensagem())"
   ]
  },
  {
   "attachments": {},
   "cell_type": "markdown",
   "metadata": {},
   "source": [
    "programa que verifica se um valor é maior que o outro"
   ]
  },
  {
   "cell_type": "code",
   "execution_count": 10,
   "metadata": {},
   "outputs": [
    {
     "data": {
      "text/plain": [
       "'o valor 20 é maior que o valor 5'"
      ]
     },
     "execution_count": 10,
     "metadata": {},
     "output_type": "execute_result"
    }
   ],
   "source": [
    "def verificar_maior(x, y):\n",
    "    if(x > y): return (f'o valor {x} é maior que o valor {y}')\n",
    "    else: return (f'o valor {y} é maior que o valor {x}')\n",
    "\n",
    "verificar_maior(5, 20)"
   ]
  },
  {
   "attachments": {},
   "cell_type": "markdown",
   "metadata": {},
   "source": [
    "verifica se é um numero inteiro\n",
    "\n",
    "Faça um programa que peça ao usuário para digitar um número inteiro,\n",
    "informe se este número é par ou ímpar. Caso o usuário não digite um número\n",
    "inteiro, informe que não é um número inteiro."
   ]
  },
  {
   "cell_type": "code",
   "execution_count": 11,
   "metadata": {},
   "outputs": [
    {
     "name": "stdout",
     "output_type": "stream",
     "text": [
      "o numero que digitou não é um numero inteiro\n"
     ]
    }
   ],
   "source": [
    "def verifica_par_impar(numero=0):\n",
    "    if numero % 2 == 0: return \"par\"\n",
    "    else: return \"impar\"\n",
    "\n",
    "numero = input(\"digite um numero: \")\n",
    "\n",
    "if numero.isdigit():\n",
    "    numero = int(numero)\n",
    "    print(verifica_par_impar(numero))\n",
    "else:\n",
    "    print(\"o numero que digitou não é um numero inteiro\")"
   ]
  },
  {
   "attachments": {},
   "cell_type": "markdown",
   "metadata": {},
   "source": [
    "Faça um programa que pergunte a hora ao usuário e, baseando-se no horário \n",
    "descrito, exiba a saudação apropriada. Ex. \n",
    "Bom dia 0-11, Boa tarde 12-17 e Boa noite 18-23."
   ]
  },
  {
   "cell_type": "code",
   "execution_count": 14,
   "metadata": {},
   "outputs": [
    {
     "name": "stdout",
     "output_type": "stream",
     "text": [
      "boa tarde\n"
     ]
    }
   ],
   "source": [
    "def saudacao(hora):\n",
    "    if (hora >= 0 and hora <= 11): return \"bom dia\"\n",
    "    elif (hora >= 12 and hora <= 17): return \"boa tarde\"\n",
    "    elif (hora >= 18 and hora <= 23): return \"boa noite\"\n",
    "    else: ...\n",
    "\n",
    "hora = input(\"informe a hora\")\n",
    "\n",
    "if (hora.isdigit()):\n",
    "    hora = int(hora)\n",
    "    print(saudacao(hora))\n",
    "else: ..."
   ]
  },
  {
   "attachments": {},
   "cell_type": "markdown",
   "metadata": {},
   "source": [
    "Faça um programa que peça o primeiro nome do usuário. Se o nome tiver 4 letras ou \n",
    "menos escreva \"Seu nome é curto\"; se tiver entre 5 e 6 letras, escreva \n",
    "\"Seu nome é normal\"; maior que 6 escreva \"Seu nome é muito grande\"."
   ]
  },
  {
   "cell_type": "code",
   "execution_count": 18,
   "metadata": {},
   "outputs": [
    {
     "name": "stdout",
     "output_type": "stream",
     "text": [
      "seu nome é muito grande\n"
     ]
    }
   ],
   "source": [
    "def primeiro_nome(nome=\"lucas\"):\n",
    "    if (len(nome) <= 4): return \"seu nome é curto\"\n",
    "    elif(len(nome) >= 5 and len(nome)<=6): return \"seu nome é normal\"\n",
    "    else: return \"seu nome é muito grande\"\n",
    "\n",
    "nome = input(\"informe seu primeiro nome: \")\n",
    "print(primeiro_nome(nome))"
   ]
  },
  {
   "cell_type": "code",
   "execution_count": 31,
   "metadata": {},
   "outputs": [
    {
     "name": "stdout",
     "output_type": "stream",
     "text": [
      "*l*u*c*a*s* *h*e*n*r*i*q*u*e*\n"
     ]
    }
   ],
   "source": [
    "def colocar_asteristico(nome='LUCAS'):\n",
    "    i = 0\n",
    "    nome_ast = '*'\n",
    "    while i < len(nome):\n",
    "        nome_ast += nome[i]+'*'\n",
    "        i += 1\n",
    "    return nome_ast\n",
    "\n",
    "print(colocar_asteristico(\"lucas henrique\"))"
   ]
  },
  {
   "attachments": {},
   "cell_type": "markdown",
   "metadata": {},
   "source": [
    "Exibir nome com indice"
   ]
  },
  {
   "cell_type": "code",
   "execution_count": 12,
   "metadata": {},
   "outputs": [
    {
     "name": "stdout",
     "output_type": "stream",
     "text": [
      "0 Maria\n",
      "1 Helena\n",
      "2 Luiz\n"
     ]
    }
   ],
   "source": [
    "lista = ['Maria', 'Helena', 'Luiz']\n",
    "indices = range(len(lista))\n",
    "\n",
    "for nome in lista:\n",
    "    print(lista.index(nome), nome)"
   ]
  },
  {
   "cell_type": "code",
   "execution_count": null,
   "metadata": {},
   "outputs": [],
   "source": []
  }
 ],
 "metadata": {
  "kernelspec": {
   "display_name": "Python 3",
   "language": "python",
   "name": "python3"
  },
  "language_info": {
   "codemirror_mode": {
    "name": "ipython",
    "version": 3
   },
   "file_extension": ".py",
   "mimetype": "text/x-python",
   "name": "python",
   "nbconvert_exporter": "python",
   "pygments_lexer": "ipython3",
   "version": "3.11.3"
  },
  "orig_nbformat": 4
 },
 "nbformat": 4,
 "nbformat_minor": 2
}
