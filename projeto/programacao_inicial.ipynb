{
 "cells": [
  {
   "cell_type": "code",
   "execution_count": 2,
   "metadata": {},
   "outputs": [
    {
     "name": "stdout",
     "output_type": "stream",
     "text": [
      "hello world\n"
     ]
    }
   ],
   "source": [
    "print(\"hello world\")"
   ]
  },
  {
   "attachments": {},
   "cell_type": "markdown",
   "metadata": {},
   "source": [
    "IMC"
   ]
  },
  {
   "cell_type": "code",
   "execution_count": 9,
   "metadata": {},
   "outputs": [
    {
     "name": "stdout",
     "output_type": "stream",
     "text": [
      "anderson tem 1.9 de altura\n",
      "pesa 110.0 quilos e seu IMC é\n",
      "24.691358024691358\n"
     ]
    }
   ],
   "source": [
    "nome = input('Digite seu nome')\n",
    "altura = float(input('Digite sua altura'))\n",
    "peso = float(input('Digite o seu peso'))\n",
    "\n",
    "def calcular_imc(altura, peso):\n",
    "    imc = peso / altura ** 2\n",
    "    return imc\n",
    "\n",
    "def exibir_mensagem():\n",
    "    frase = (f'{nome} tem {altura} de altura\\npesa {peso} quilos e seu IMC é\\n{calcular_imc(altura=1.80, peso=80)}')\n",
    "    return frase\n",
    "\n",
    "print(exibir_mensagem())"
   ]
  },
  {
   "attachments": {},
   "cell_type": "markdown",
   "metadata": {},
   "source": [
    "programa que verifica se um valor é maior que o outro"
   ]
  },
  {
   "cell_type": "code",
   "execution_count": 10,
   "metadata": {},
   "outputs": [
    {
     "data": {
      "text/plain": [
       "'o valor 20 é maior que o valor 5'"
      ]
     },
     "execution_count": 10,
     "metadata": {},
     "output_type": "execute_result"
    }
   ],
   "source": [
    "def verificar_maior(x, y):\n",
    "    if(x > y): return (f'o valor {x} é maior que o valor {y}')\n",
    "    else: return (f'o valor {y} é maior que o valor {x}')\n",
    "\n",
    "verificar_maior(5, 20)"
   ]
  },
  {
   "cell_type": "markdown",
   "metadata": {},
   "source": []
  },
  {
   "cell_type": "code",
   "execution_count": null,
   "metadata": {},
   "outputs": [],
   "source": []
  }
 ],
 "metadata": {
  "kernelspec": {
   "display_name": "Python 3",
   "language": "python",
   "name": "python3"
  },
  "language_info": {
   "codemirror_mode": {
    "name": "ipython",
    "version": 3
   },
   "file_extension": ".py",
   "mimetype": "text/x-python",
   "name": "python",
   "nbconvert_exporter": "python",
   "pygments_lexer": "ipython3",
   "version": "3.11.3"
  },
  "orig_nbformat": 4
 },
 "nbformat": 4,
 "nbformat_minor": 2
}
